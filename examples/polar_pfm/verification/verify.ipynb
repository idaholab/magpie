{
 "cells": [
  {
   "cell_type": "code",
   "execution_count": null,
   "metadata": {},
   "outputs": [],
   "source": [
    "%config InlineBackend.figure_formats = ['png']\n",
    "%matplotlib inline\n",
    "import os\n",
    "import sys\n",
    "import math\n",
    "import glob\n",
    "import shutil\n",
    "import tempfile\n",
    "import numpy as np\n",
    "import pandas as pd\n",
    "import matplotlib.pyplot as plt\n",
    "plt.rcParams.update({'font.size': 18}) # defaults to 10.0"
   ]
  },
  {
   "cell_type": "code",
   "execution_count": null,
   "metadata": {
    "jupyter": {
     "source_hidden": true
    }
   },
   "outputs": [],
   "source": [
    "def ffmpeg(basename, outname):\n",
    "    cmd = \"ffmpeg -y -i %s_%%04d.png -vf \\\"scale=trunc(iw/2)*2:trunc(ih/2)*2\\\" -pix_fmt yuv420p %s\" % (basename, outname)\n",
    "    os.system(cmd)"
   ]
  },
  {
   "cell_type": "code",
   "execution_count": null,
   "metadata": {
    "jupyter": {
     "source_hidden": true
    }
   },
   "outputs": [],
   "source": [
    "def animate(directory, name):\n",
    "    tmp = tempfile.mkdtemp()\n",
    "    files = glob.glob(os.path.join(directory, name) + \"_????.csv\")\n",
    "    files.sort()\n",
    "    print(tmp)\n",
    "\n",
    "    for file in files:\n",
    "        base = os.path.basename(file)\n",
    "        \n",
    "        df = pd.read_csv(file)\n",
    "        fig = plt.figure(figsize=(12,9))\n",
    "        ax = fig.gca()\n",
    "        x = df['x']\n",
    "        ax.plot(x,df['theta'], 'r-',linewidth=3.0, label=r'$\\theta$')\n",
    "        ax.plot(x,df['Upsilon'], 'b-',linewidth=3.0, label=r'$\\Upsilon$')\n",
    "        plt.title(name)\n",
    "        ax.legend(loc='center right')\n",
    "        ax.set_xlabel('Position')\n",
    "        plt.savefig(os.path.join(tmp, base[:-3] + \"png\"), dpi=150, bbox_inches='tight')\n",
    "        plt.close('all')\n",
    "\n",
    "    # make video\n",
    "    ffmpeg(os.path.join(tmp, name), name + \".mp4\")\n",
    "\n",
    "    # cleanup\n",
    "    shutil.rmtree(tmp)"
   ]
  },
  {
   "cell_type": "markdown",
   "metadata": {},
   "source": [
    "# Steady State Interface Verification\n",
    "\n",
    "We first run the steady state input files using `magpie-opt`."
   ]
  },
  {
   "cell_type": "code",
   "execution_count": null,
   "metadata": {},
   "outputs": [],
   "source": [
    "if os.system(\"../../../magpie-opt -i steady_theta.i\") or os.system(\"../../../magpie-opt -i steady_upsilon.i\"):\n",
    "    print(\"Magpie run failed.\")    \n",
    "else:\n",
    "    print(\"Success.\")"
   ]
  },
  {
   "cell_type": "markdown",
   "metadata": {},
   "source": [
    "Next we generate two movies showing how the linear ramp converges to teh analytical steady state solution."
   ]
  },
  {
   "cell_type": "code",
   "execution_count": null,
   "metadata": {},
   "outputs": [],
   "source": [
    "def steady_anim(var, T, ycols):\n",
    "    tmp = tempfile.mkdtemp()\n",
    "    #patterns = [\"out/steady_theta_2.0_2.0_432_sol_%04d.csv\", \"out/steady_theta_2.0_2.0_432_ana_%04d.csv\"]\n",
    "    #patterns = [\"out/steady_upsilon_2.0_2.0_532.14_sol_%04d.csv\", \"out/steady_upsilon_2.0_2.0_532.14_ana_%04d.csv\"]\n",
    "    #patterns = [\"out/steady_%s_2.0_2.0_%s_sol_%04d.csv\", \"out/steady_%s_2.0_2.0_%s_ana_%04d.csv\"]\n",
    "    patterns = [\"out/steady_%s_2.2_1_%s_sol_%04d.csv\", \"out/steady_%s_2.2_1_%s_ana_%04d.csv\"]\n",
    "\n",
    "\n",
    "    xcols = ['x', 'x']\n",
    "    labels = ['numerical', 'analytical']\n",
    "    line = ['-r', '--b']\n",
    "\n",
    "    png = \"out_\" + var + \"_%04d.png\"\n",
    "    mp4 = \"steady_\" + var + \".mp4\"\n",
    "    n = 1\n",
    "\n",
    "    while True:\n",
    "        d = []\n",
    "        for p in patterns:\n",
    "            file = p % (var, T, n)\n",
    "            print(file)\n",
    "            if not os.path.isfile(file):\n",
    "                break\n",
    "            # load data\n",
    "            d.append(pd.read_csv(file))\n",
    "        else:\n",
    "            # do all work with loaded data\n",
    "            print(\"render\")\n",
    "            n += 1\n",
    "\n",
    "            fig = plt.figure(figsize=(12,9))\n",
    "            ax = fig.gca()\n",
    "            for i in range(len(d)):\n",
    "                ax.plot(d[i][xcols[i]], d[i][ycols[i]], line[i],linewidth=3.0, label=labels[i])\n",
    "\n",
    "            #         plt.title(name)\n",
    "            ax.legend(loc='center right')\n",
    "            ax.set_xlabel('Position')\n",
    "            \n",
    "            outfile = os.path.join(tmp, png % n)\n",
    "            plt.savefig(outfile, dpi=150, bbox_inches='tight')\n",
    "            plt.close('all')\n",
    "\n",
    "            continue\n",
    "        break\n",
    "\n",
    "    # make video\n",
    "    cmd = \"ffmpeg -y -i %s -vf \\\"scale=trunc(iw/2)*2:trunc(ih/2)*2\\\" -pix_fmt yuv420p %s\" % (os.path.join(tmp, png), mp4)\n",
    "    os.system(cmd)\n",
    "\n",
    "    # cleanup\n",
    "    shutil.rmtree(tmp)\n",
    "    \n",
    "steady_anim('theta', '432', ['theta', 'theta'])\n",
    "steady_anim('upsilon', '532.14', ['Upsilon', 'Upsilon'])"
   ]
  },
  {
   "cell_type": "markdown",
   "metadata": {},
   "source": [
    "# Interface Velocity Verification\n",
    "\n",
    "We first run the velocity input files using `magpie-opt`."
   ]
  },
  {
   "cell_type": "code",
   "execution_count": null,
   "metadata": {},
   "outputs": [],
   "source": [
    "for var in ['upsilon', 'theta']:\n",
    "    for T in range(392, 542,10):\n",
    "        print(var, T)\n",
    "        os.system(\"../../../magpie-opt -i velocity_%s.i Temp_=%d KE=1.933\" % (var, T))"
   ]
  },
  {
   "cell_type": "markdown",
   "metadata": {},
   "source": [
    "Next we collect the PostProcessor CSV files and extract the numerical interface velocity as `dpos/dt` and the analytically computed interface velocity `vanalytic`. The latter is computed in the input uisng a Function and a FunctionValuePostprocessor. The value is constant over time."
   ]
  },
  {
   "cell_type": "code",
   "execution_count": null,
   "metadata": {},
   "outputs": [],
   "source": [
    "files1 = glob.glob(\"out/velocity_theta_1.933_1_???.csv\")\n",
    "files1.sort()\n",
    "\n",
    "x1 = []\n",
    "y1 = []\n",
    "ay1 = []\n",
    "for f in files1:\n",
    "    d = pd.read_csv(f)\n",
    "    T = float(f.split('_')[-1].split('.')[0])\n",
    "    x1.append(T)\n",
    "    y1.append(np.average(list(d['dpos'][-20:]/d['dt'][-20:]))*1e-9)\n",
    "    ay1.append(np.average(list(d['vanalytic'][-20:]))*1e-9)\n",
    "\n",
    "m1,b1 = np.polyfit(x1, ay1, 1) \n",
    "\n",
    "files2 = glob.glob(\"out/velocity_upsilon_1.933_1_???.csv\")\n",
    "files2.sort()\n",
    "\n",
    "x2 = []\n",
    "y2 = []\n",
    "ay2 = []\n",
    "for f in files2:\n",
    "    d = pd.read_csv(f)\n",
    "    T = float(f.split('_')[-1].split('.')[0])\n",
    "    x2.append(T)\n",
    "    y2.append(np.average(list(d['dpos'][-100:]/d['dt'][-100:]))*1e-9)\n",
    "    ay2.append(np.average(list(d['vanalytic'][-100:]))*1e-9)\n",
    "\n",
    "m2,b2 = np.polyfit(x2, ay2, 1) \n",
    "\n",
    "fig = plt.figure(figsize=(12,9))\n",
    "ax = fig.gca()\n",
    "\n",
    "ax.plot(x1, y1, 'o',linewidth=3.0, label=r'$v_\\vartheta$ numerical')\n",
    "ax.plot(x1, m1*np.array(x1)+b1, '-', label=r'$v_\\vartheta$ analytical')\n",
    "\n",
    "ax.plot(x2, y2, 'o',linewidth=3.0, label=r'$v_\\Upsilon$ numerical')\n",
    "ax.plot(x2, m2*np.array(x2)+b2, '-', label=r'$v_\\Upsilon$ analytical')\n",
    "\n",
    "ax.legend(loc='lower right')\n",
    "ax.set_xlabel('Temperature [K]')\n",
    "ax.set_ylabel('Velocity [m/s]')\n",
    "\n",
    "plt.savefig('velocity.png', dpi=150, bbox_inches='tight')\n",
    "#plt.close('all')"
   ]
  },
  {
   "cell_type": "markdown",
   "metadata": {},
   "source": [
    "Here we take a look at the interface velocity data from every timestep in the `theta` and `Upsilon` runs. We need to make sure that the velocity converges to a constant value."
   ]
  },
  {
   "cell_type": "code",
   "execution_count": null,
   "metadata": {},
   "outputs": [],
   "source": [
    "files1 = glob.glob(\"out/velocity_theta_1.933_1_???.csv\")\n",
    "files1.sort()\n",
    "\n",
    "fig = plt.figure(figsize=(12,9))\n",
    "ax = fig.gca()\n",
    "for f in files1:\n",
    "    d = pd.read_csv(f)\n",
    "    T = float(f.split('_')[-1].split('.')[0])\n",
    "    ax.plot(d['dpos']/d['dt'], '*',label=\"T=%d\" % T)\n",
    "\n",
    "ax.legend(loc='upper right')\n",
    "ax.set_xlabel('step')\n",
    "ax.set_ylabel('Velocity [m/s]')\n"
   ]
  },
  {
   "cell_type": "code",
   "execution_count": null,
   "metadata": {},
   "outputs": [],
   "source": [
    "files1 = glob.glob(\"out/velocity_upsilon_1.933_1_???.csv\")\n",
    "files1.sort()\n",
    "\n",
    "fig = plt.figure(figsize=(12,9))\n",
    "ax = fig.gca()\n",
    "for f in files1:\n",
    "    d = pd.read_csv(f)\n",
    "    T = float(f.split('_')[-1].split('.')[0])\n",
    "    ax.plot(d['dpos']/d['dt'], '*',label=\"T=%d\" % T)\n",
    "\n",
    "ax.legend(loc='lower right')\n",
    "ax.set_xlabel('step')\n",
    "ax.set_ylabel('Velocity [m/s]')\n"
   ]
  },
  {
   "cell_type": "markdown",
   "metadata": {},
   "source": [
    "Here we look at the `theta` and `Upsilon` interface profiles to verify that we have the expected clean interfaces. Change the temperature value `T` to look at different runs."
   ]
  },
  {
   "cell_type": "code",
   "execution_count": null,
   "metadata": {},
   "outputs": [],
   "source": [
    "T = 392\n",
    "files1 = glob.glob(\"out/velocity_theta_1.933_1_%d_op_*.csv\" % T)\n",
    "files1.sort()\n",
    "\n",
    "fig = plt.figure(figsize=(22,9))\n",
    "ax = fig.gca()\n",
    "for f in files1:\n",
    "    d = pd.read_csv(f)\n",
    "    T = float(f.split('_')[-1].split('.')[0])\n",
    "    ax.plot(d['x'], d['theta'], 'r')\n",
    "    ax.plot(d['x'], d['Upsilon'], 'b')\n"
   ]
  },
  {
   "cell_type": "code",
   "execution_count": null,
   "metadata": {},
   "outputs": [],
   "source": [
    "T = 392\n",
    "files1 = glob.glob(\"out/velocity_upsilon_1.933_1_%d_op_*0.csv\" % T)\n",
    "files1.sort()\n",
    "\n",
    "fig = plt.figure(figsize=(22,9))\n",
    "ax = fig.gca()\n",
    "for f in files1:\n",
    "    d = pd.read_csv(f)\n",
    "    T = float(f.split('_')[-1].split('.')[0])\n",
    "    ax.plot(d['x'], d['theta'], 'r')\n",
    "    ax.plot(d['x'], d['Upsilon'], 'b')\n"
   ]
  },
  {
   "cell_type": "code",
   "execution_count": null,
   "metadata": {},
   "outputs": [],
   "source": []
  }
 ],
 "metadata": {
  "kernelspec": {
   "display_name": "Python 3",
   "language": "python",
   "name": "python3"
  },
  "language_info": {
   "codemirror_mode": {
    "name": "ipython",
    "version": 3
   },
   "file_extension": ".py",
   "mimetype": "text/x-python",
   "name": "python",
   "nbconvert_exporter": "python",
   "pygments_lexer": "ipython3",
   "version": "3.7.6"
  }
 },
 "nbformat": 4,
 "nbformat_minor": 4
}
